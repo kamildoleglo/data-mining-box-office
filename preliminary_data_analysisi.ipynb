{
 "cells": [
  {
   "cell_type": "code",
   "execution_count": 35,
   "metadata": {},
   "outputs": [],
   "source": [
    "# loading recquired libraries \n",
    "import numpy as np\n",
    "import pandas as pd\n",
    "from matplotlib import pyplot as plt\n",
    "\n",
    "# evironment configuration\n",
    "np.set_printoptions(linewidth=2000)\n",
    "np.set_printoptions(threshold=2000)"
   ]
  },
  {
   "cell_type": "code",
   "execution_count": 36,
   "metadata": {},
   "outputs": [],
   "source": [
    "# data reading\n",
    "data_file_path = \"./tmdb-box-office-prediction/train.csv\"\n",
    "dataset = pd.read_csv(data_file_path)"
   ]
  },
  {
   "cell_type": "code",
   "execution_count": 37,
   "metadata": {},
   "outputs": [
    {
     "name": "stdout",
     "output_type": "stream",
     "text": [
      "Dataset size: 69000\n",
      "Dataset shape: (3000, 23)\n"
     ]
    }
   ],
   "source": [
    "# print basic informations obout dataset\n",
    "print(\"Dataset size:\", dataset.size)\n",
    "print(\"Dataset shape:\", dataset.shape)\n",
    "#print(dataset.head(2)) #uncomment to see example record"
   ]
  },
  {
   "cell_type": "code",
   "execution_count": 38,
   "metadata": {},
   "outputs": [
    {
     "name": "stdout",
     "output_type": "stream",
     "text": [
      "                id        budget   popularity      runtime       revenue\n",
      "count  3000.000000  3.000000e+03  3000.000000  2998.000000  3.000000e+03\n",
      "mean   1500.500000  2.253133e+07     8.463274   107.856571  6.672585e+07\n",
      "std     866.169729  3.702609e+07    12.104000    22.086434  1.375323e+08\n",
      "min       1.000000  0.000000e+00     0.000001     0.000000  1.000000e+00\n",
      "25%     750.750000  0.000000e+00     4.018053    94.000000  2.379808e+06\n",
      "50%    1500.500000  8.000000e+06     7.374861   104.000000  1.680707e+07\n",
      "75%    2250.250000  2.900000e+07    10.890983   118.000000  6.891920e+07\n",
      "max    3000.000000  3.800000e+08   294.337037   338.000000  1.519558e+09\n",
      "                                    belongs_to_collection  \\\n",
      "count                                                 604   \n",
      "unique                                                422   \n",
      "top     [{'id': 645, 'name': 'James Bond Collection', ...   \n",
      "freq                                                   16   \n",
      "\n",
      "                               genres                           homepage  \\\n",
      "count                            2993                                946   \n",
      "unique                            872                                941   \n",
      "top     [{'id': 18, 'name': 'Drama'}]  http://www.transformersmovie.com/   \n",
      "freq                              266                                  4   \n",
      "\n",
      "          imdb_id original_language original_title  \\\n",
      "count        3000              3000           3000   \n",
      "unique       3000                36           2975   \n",
      "top     tt0212338                en    Hot Pursuit   \n",
      "freq            1              2575              2   \n",
      "\n",
      "                                                 overview  \\\n",
      "count                                                2992   \n",
      "unique                                               2992   \n",
      "top     The making of a horror movie takes on a terrif...   \n",
      "freq                                                    1   \n",
      "\n",
      "                             poster_path  \\\n",
      "count                               2999   \n",
      "unique                              2999   \n",
      "top     /gJNjVE8WGUjiSKUtMDEvNzxR5zq.jpg   \n",
      "freq                                   1   \n",
      "\n",
      "                             production_companies  \\\n",
      "count                                        2844   \n",
      "unique                                       2383   \n",
      "top     [{'name': 'Paramount Pictures', 'id': 4}]   \n",
      "freq                                           51   \n",
      "\n",
      "                                     production_countries release_date  \\\n",
      "count                                                2945         3000   \n",
      "unique                                                321         2398   \n",
      "top     [{'iso_3166_1': 'US', 'name': 'United States o...      9/10/10   \n",
      "freq                                                 1752            5   \n",
      "\n",
      "                                spoken_languages    status  \\\n",
      "count                                       2980      3000   \n",
      "unique                                       401         2   \n",
      "top     [{'iso_639_1': 'en', 'name': 'English'}]  Released   \n",
      "freq                                        1817      2996   \n",
      "\n",
      "                       tagline              title  \\\n",
      "count                     2403               3000   \n",
      "unique                    2400               2969   \n",
      "top     Based on a true story.  Alone in the Dark   \n",
      "freq                         3                  2   \n",
      "\n",
      "                                           Keywords  cast  \\\n",
      "count                                          2724  2987   \n",
      "unique                                         2648  2975   \n",
      "top     [{'id': 10183, 'name': 'independent film'}]    []   \n",
      "freq                                             27    13   \n",
      "\n",
      "                                                     crew  \n",
      "count                                                2984  \n",
      "unique                                               2984  \n",
      "top     [{'credit_id': '52fe45cc9251416c9103eb49', 'de...  \n",
      "freq                                                    1  \n"
     ]
    }
   ],
   "source": [
    "# dataset basic description\n",
    "#print(dataset.describe(include='all')) #uncomment to get all column description\n",
    "print(dataset.describe(include = [np.number])) # decription of numerical column\n",
    "print(dataset.describe(include = ['O'])) # description of objectvalue columns"
   ]
  },
  {
   "cell_type": "code",
   "execution_count": null,
   "metadata": {},
   "outputs": [],
   "source": []
  }
 ],
 "metadata": {
  "kernelspec": {
   "display_name": "Python 3",
   "language": "python",
   "name": "python3"
  },
  "language_info": {
   "codemirror_mode": {
    "name": "ipython",
    "version": 3
   },
   "file_extension": ".py",
   "mimetype": "text/x-python",
   "name": "python",
   "nbconvert_exporter": "python",
   "pygments_lexer": "ipython3",
   "version": "3.7.6"
  }
 },
 "nbformat": 4,
 "nbformat_minor": 4
}
